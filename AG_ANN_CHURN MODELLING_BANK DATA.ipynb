{
 "cells": [
  {
   "cell_type": "code",
   "execution_count": 26,
   "metadata": {},
   "outputs": [
    {
     "name": "stdout",
     "output_type": "stream",
     "text": [
      "Requirement already satisfied: sklearn in c:\\users\\avinash\\anaconda3\\envs\\tensorflow\\lib\\site-packages (0.0)\n",
      "Requirement already satisfied: scikit-learn in c:\\users\\avinash\\anaconda3\\envs\\tensorflow\\lib\\site-packages (from sklearn) (0.24.1)\n",
      "Requirement already satisfied: joblib>=0.11 in c:\\users\\avinash\\anaconda3\\envs\\tensorflow\\lib\\site-packages (from scikit-learn->sklearn) (1.0.0)\n",
      "Requirement already satisfied: numpy>=1.13.3 in c:\\users\\avinash\\anaconda3\\envs\\tensorflow\\lib\\site-packages (from scikit-learn->sklearn) (1.19.2)\n",
      "Requirement already satisfied: scipy>=0.19.1 in c:\\users\\avinash\\anaconda3\\envs\\tensorflow\\lib\\site-packages (from scikit-learn->sklearn) (1.5.2)\n",
      "Requirement already satisfied: threadpoolctl>=2.0.0 in c:\\users\\avinash\\anaconda3\\envs\\tensorflow\\lib\\site-packages (from scikit-learn->sklearn) (2.1.0)\n",
      "Requirement already satisfied: matplotlib in c:\\users\\avinash\\anaconda3\\envs\\tensorflow\\lib\\site-packages (3.3.4)\n",
      "Requirement already satisfied: kiwisolver>=1.0.1 in c:\\users\\avinash\\anaconda3\\envs\\tensorflow\\lib\\site-packages (from matplotlib) (1.3.1)\n",
      "Requirement already satisfied: cycler>=0.10 in c:\\users\\avinash\\anaconda3\\envs\\tensorflow\\lib\\site-packages (from matplotlib) (0.10.0)\n",
      "Requirement already satisfied: pyparsing!=2.0.4,!=2.1.2,!=2.1.6,>=2.0.3 in c:\\users\\avinash\\anaconda3\\envs\\tensorflow\\lib\\site-packages (from matplotlib) (2.4.7)\n",
      "Requirement already satisfied: numpy>=1.15 in c:\\users\\avinash\\anaconda3\\envs\\tensorflow\\lib\\site-packages (from matplotlib) (1.19.2)\n",
      "Requirement already satisfied: python-dateutil>=2.1 in c:\\users\\avinash\\anaconda3\\envs\\tensorflow\\lib\\site-packages (from matplotlib) (2.8.1)\n",
      "Requirement already satisfied: pillow>=6.2.0 in c:\\users\\avinash\\anaconda3\\envs\\tensorflow\\lib\\site-packages (from matplotlib) (8.1.0)\n",
      "Requirement already satisfied: six in c:\\users\\avinash\\anaconda3\\envs\\tensorflow\\lib\\site-packages (from cycler>=0.10->matplotlib) (1.15.0)\n"
     ]
    }
   ],
   "source": [
    "#to install tensorflow open comd.prompt,pip install tensorflow then pip install keras, create new environment in anaconda navig-\n",
    "#-ator, restart system, open conda navigator and new environment click on tensorflow,keras and tensorflow estimator and apply\n",
    "#and then i have to install !pip install pandas in jupyter as it thrown me module not found error\n",
    "!pip install sklearn\n",
    "!pip install matplotlib"
   ]
  },
  {
   "cell_type": "code",
   "execution_count": 28,
   "metadata": {},
   "outputs": [],
   "source": [
    "#importing libraries\n",
    "import pandas as pd\n",
    "import numpy as np\n",
    "import tensorflow as tf\n"
   ]
  },
  {
   "cell_type": "code",
   "execution_count": 29,
   "metadata": {},
   "outputs": [
    {
     "data": {
      "text/html": [
       "<div>\n",
       "<style scoped>\n",
       "    .dataframe tbody tr th:only-of-type {\n",
       "        vertical-align: middle;\n",
       "    }\n",
       "\n",
       "    .dataframe tbody tr th {\n",
       "        vertical-align: top;\n",
       "    }\n",
       "\n",
       "    .dataframe thead th {\n",
       "        text-align: right;\n",
       "    }\n",
       "</style>\n",
       "<table border=\"1\" class=\"dataframe\">\n",
       "  <thead>\n",
       "    <tr style=\"text-align: right;\">\n",
       "      <th></th>\n",
       "      <th>RowNumber</th>\n",
       "      <th>CustomerId</th>\n",
       "      <th>Surname</th>\n",
       "      <th>CreditScore</th>\n",
       "      <th>Geography</th>\n",
       "      <th>Gender</th>\n",
       "      <th>Age</th>\n",
       "      <th>Tenure</th>\n",
       "      <th>Balance</th>\n",
       "      <th>NumOfProducts</th>\n",
       "      <th>HasCrCard</th>\n",
       "      <th>IsActiveMember</th>\n",
       "      <th>EstimatedSalary</th>\n",
       "      <th>Exited</th>\n",
       "    </tr>\n",
       "  </thead>\n",
       "  <tbody>\n",
       "    <tr>\n",
       "      <th>0</th>\n",
       "      <td>1</td>\n",
       "      <td>15634602</td>\n",
       "      <td>Hargrave</td>\n",
       "      <td>619</td>\n",
       "      <td>France</td>\n",
       "      <td>Female</td>\n",
       "      <td>42</td>\n",
       "      <td>2</td>\n",
       "      <td>0.00</td>\n",
       "      <td>1</td>\n",
       "      <td>1</td>\n",
       "      <td>1</td>\n",
       "      <td>101348.88</td>\n",
       "      <td>1</td>\n",
       "    </tr>\n",
       "    <tr>\n",
       "      <th>1</th>\n",
       "      <td>2</td>\n",
       "      <td>15647311</td>\n",
       "      <td>Hill</td>\n",
       "      <td>608</td>\n",
       "      <td>Spain</td>\n",
       "      <td>Female</td>\n",
       "      <td>41</td>\n",
       "      <td>1</td>\n",
       "      <td>83807.86</td>\n",
       "      <td>1</td>\n",
       "      <td>0</td>\n",
       "      <td>1</td>\n",
       "      <td>112542.58</td>\n",
       "      <td>0</td>\n",
       "    </tr>\n",
       "    <tr>\n",
       "      <th>2</th>\n",
       "      <td>3</td>\n",
       "      <td>15619304</td>\n",
       "      <td>Onio</td>\n",
       "      <td>502</td>\n",
       "      <td>France</td>\n",
       "      <td>Female</td>\n",
       "      <td>42</td>\n",
       "      <td>8</td>\n",
       "      <td>159660.80</td>\n",
       "      <td>3</td>\n",
       "      <td>1</td>\n",
       "      <td>0</td>\n",
       "      <td>113931.57</td>\n",
       "      <td>1</td>\n",
       "    </tr>\n",
       "    <tr>\n",
       "      <th>3</th>\n",
       "      <td>4</td>\n",
       "      <td>15701354</td>\n",
       "      <td>Boni</td>\n",
       "      <td>699</td>\n",
       "      <td>France</td>\n",
       "      <td>Female</td>\n",
       "      <td>39</td>\n",
       "      <td>1</td>\n",
       "      <td>0.00</td>\n",
       "      <td>2</td>\n",
       "      <td>0</td>\n",
       "      <td>0</td>\n",
       "      <td>93826.63</td>\n",
       "      <td>0</td>\n",
       "    </tr>\n",
       "    <tr>\n",
       "      <th>4</th>\n",
       "      <td>5</td>\n",
       "      <td>15737888</td>\n",
       "      <td>Mitchell</td>\n",
       "      <td>850</td>\n",
       "      <td>Spain</td>\n",
       "      <td>Female</td>\n",
       "      <td>43</td>\n",
       "      <td>2</td>\n",
       "      <td>125510.82</td>\n",
       "      <td>1</td>\n",
       "      <td>1</td>\n",
       "      <td>1</td>\n",
       "      <td>79084.10</td>\n",
       "      <td>0</td>\n",
       "    </tr>\n",
       "  </tbody>\n",
       "</table>\n",
       "</div>"
      ],
      "text/plain": [
       "   RowNumber  CustomerId   Surname  CreditScore Geography  Gender  Age  \\\n",
       "0          1    15634602  Hargrave          619    France  Female   42   \n",
       "1          2    15647311      Hill          608     Spain  Female   41   \n",
       "2          3    15619304      Onio          502    France  Female   42   \n",
       "3          4    15701354      Boni          699    France  Female   39   \n",
       "4          5    15737888  Mitchell          850     Spain  Female   43   \n",
       "\n",
       "   Tenure    Balance  NumOfProducts  HasCrCard  IsActiveMember  \\\n",
       "0       2       0.00              1          1               1   \n",
       "1       1   83807.86              1          0               1   \n",
       "2       8  159660.80              3          1               0   \n",
       "3       1       0.00              2          0               0   \n",
       "4       2  125510.82              1          1               1   \n",
       "\n",
       "   EstimatedSalary  Exited  \n",
       "0        101348.88       1  \n",
       "1        112542.58       0  \n",
       "2        113931.57       1  \n",
       "3         93826.63       0  \n",
       "4         79084.10       0  "
      ]
     },
     "execution_count": 29,
     "metadata": {},
     "output_type": "execute_result"
    }
   ],
   "source": [
    "#datapreprocessing\n",
    "dataset=pd.read_csv('Churn_Modelling.csv')\n",
    "dataset.head()"
   ]
  },
  {
   "cell_type": "code",
   "execution_count": 30,
   "metadata": {},
   "outputs": [],
   "source": [
    "X=dataset.iloc[:,3:-1].values\n",
    "y=dataset.iloc[:,-1].values"
   ]
  },
  {
   "cell_type": "code",
   "execution_count": 17,
   "metadata": {},
   "outputs": [],
   "source": [
    "#No missing data in the dataset\n",
    "#So now we need to encod categorical variables, for gender column there are only 2 elements so we use label encoding and \n",
    "#for more than 3 categories in a column we use OneHotencoder"
   ]
  },
  {
   "cell_type": "code",
   "execution_count": 31,
   "metadata": {},
   "outputs": [
    {
     "data": {
      "text/plain": [
       "array([[619, 'France', 0, ..., 1, 1, 101348.88],\n",
       "       [608, 'Spain', 0, ..., 0, 1, 112542.58],\n",
       "       [502, 'France', 0, ..., 1, 0, 113931.57],\n",
       "       ...,\n",
       "       [709, 'France', 0, ..., 0, 1, 42085.58],\n",
       "       [772, 'Germany', 1, ..., 1, 0, 92888.52],\n",
       "       [792, 'France', 0, ..., 1, 0, 38190.78]], dtype=object)"
      ]
     },
     "execution_count": 31,
     "metadata": {},
     "output_type": "execute_result"
    }
   ],
   "source": [
    "#encoding gender column\n",
    "from sklearn.preprocessing import LabelEncoder\n",
    "le=LabelEncoder()\n",
    "X[:,2]=le.fit_transform(X[:,2])\n",
    "X"
   ]
  },
  {
   "cell_type": "code",
   "execution_count": 32,
   "metadata": {},
   "outputs": [
    {
     "data": {
      "text/plain": [
       "array([[1.0, 0.0, 0.0, ..., 1, 1, 101348.88],\n",
       "       [0.0, 0.0, 1.0, ..., 0, 1, 112542.58],\n",
       "       [1.0, 0.0, 0.0, ..., 1, 0, 113931.57],\n",
       "       ...,\n",
       "       [1.0, 0.0, 0.0, ..., 0, 1, 42085.58],\n",
       "       [0.0, 1.0, 0.0, ..., 1, 0, 92888.52],\n",
       "       [1.0, 0.0, 0.0, ..., 1, 0, 38190.78]], dtype=object)"
      ]
     },
     "execution_count": 32,
     "metadata": {},
     "output_type": "execute_result"
    }
   ],
   "source": [
    "#column transformer transforms one column to 3\n",
    "from sklearn.compose import ColumnTransformer\n",
    "from sklearn.preprocessing import OneHotEncoder\n",
    "ct = ColumnTransformer(transformers=[('encoder',OneHotEncoder(),[1])],remainder='passthrough')\n",
    "X = np.array(ct.fit_transform(X))\n",
    "Xprint(ann.predict(sc.transform([[1, 0, 0, 600, 1, 40, 3, 60000, 2, 1, 1, 50000]])) > 0.5)"
   ]
  },
  {
   "cell_type": "code",
   "execution_count": 33,
   "metadata": {},
   "outputs": [],
   "source": [
    "#splitting the data into train set and test set\n",
    "from sklearn.model_selection import train_test_split\n",
    "X_train,X_test,y_train,y_test = train_test_split(X,y,test_size=0.2,random_state=0)"
   ]
  },
  {
   "cell_type": "code",
   "execution_count": 34,
   "metadata": {},
   "outputs": [],
   "source": [
    "#Feature scaling, irrespective of the data feature scaling is compulsory in deeplearning models\n",
    "from sklearn.preprocessing import StandardScaler\n",
    "sc = StandardScaler()\n",
    "#its a bit different than calssification and regression models, #no indexes used here\n",
    "X_train = sc.fit_transform(X_train)\n",
    "X_test = sc.transform(X_test)"
   ]
  },
  {
   "cell_type": "code",
   "execution_count": 35,
   "metadata": {},
   "outputs": [],
   "source": [
    "#Building the ANN\n",
    "#intializing ANN\n",
    "\n",
    "ann = tf.keras.models.Sequential()"
   ]
  },
  {
   "cell_type": "code",
   "execution_count": 36,
   "metadata": {},
   "outputs": [],
   "source": [
    "#Adding the first input layer and the first hidden layer relu means rectifier activation function(rectifier linear unit full form)\n",
    "ann.add(tf.keras.layers.Dense(units=6, activation = 'relu'))"
   ]
  },
  {
   "cell_type": "code",
   "execution_count": 37,
   "metadata": {},
   "outputs": [],
   "source": [
    "#Addign second hidden layer\n",
    "ann.add(tf.keras.layers.Dense(units=6, activation = 'relu'))"
   ]
  },
  {
   "cell_type": "code",
   "execution_count": 38,
   "metadata": {},
   "outputs": [],
   "source": [
    "#Adding output layer\n",
    "ann.add(tf.keras.layers.Dense(units=1, activation = 'sigmoid')) #here for non binary activation = 'softmax'"
   ]
  },
  {
   "cell_type": "code",
   "execution_count": 39,
   "metadata": {},
   "outputs": [],
   "source": [
    "#Training the ANN Model, this can be done in 2 steps 1 Compiling 2 Training ANN on training set\n",
    "ann.compile(optimizer = 'adam',loss='binary_crossentropy',metrics = ['accuracy'])#optimizer fixes SGD,loss gives loss function,\n",
    "#for non binary classification predecting 3 different categories, loss = 'categorical_crossentropy'\n"
   ]
  },
  {
   "cell_type": "code",
   "execution_count": 40,
   "metadata": {},
   "outputs": [
    {
     "name": "stdout",
     "output_type": "stream",
     "text": [
      "Epoch 1/100\n",
      "250/250 [==============================] - 0s 925us/step - loss: 0.5738 - accuracy: 0.7505\n",
      "Epoch 2/100\n",
      "250/250 [==============================] - 0s 810us/step - loss: 0.4934 - accuracy: 0.7955\n",
      "Epoch 3/100\n",
      "250/250 [==============================] - 0s 778us/step - loss: 0.4590 - accuracy: 0.7972\n",
      "Epoch 4/100\n",
      "250/250 [==============================] - 0s 802us/step - loss: 0.4386 - accuracy: 0.8044\n",
      "Epoch 5/100\n",
      "250/250 [==============================] - 0s 772us/step - loss: 0.4290 - accuracy: 0.8070\n",
      "Epoch 6/100\n",
      "250/250 [==============================] - 0s 758us/step - loss: 0.4232 - accuracy: 0.8136\n",
      "Epoch 7/100\n",
      "250/250 [==============================] - 0s 837us/step - loss: 0.4186 - accuracy: 0.8186\n",
      "Epoch 8/100\n",
      "250/250 [==============================] - 0s 802us/step - loss: 0.4145 - accuracy: 0.8221\n",
      "Epoch 9/100\n",
      "250/250 [==============================] - 0s 808us/step - loss: 0.4095 - accuracy: 0.8238\n",
      "Epoch 10/100\n",
      "250/250 [==============================] - 0s 774us/step - loss: 0.4044 - accuracy: 0.8276\n",
      "Epoch 11/100\n",
      "250/250 [==============================] - 0s 746us/step - loss: 0.3983 - accuracy: 0.8299\n",
      "Epoch 12/100\n",
      "250/250 [==============================] - 0s 842us/step - loss: 0.3923 - accuracy: 0.8311\n",
      "Epoch 13/100\n",
      "250/250 [==============================] - 0s 802us/step - loss: 0.3864 - accuracy: 0.8345\n",
      "Epoch 14/100\n",
      "250/250 [==============================] - 0s 781us/step - loss: 0.3823 - accuracy: 0.8347\n",
      "Epoch 15/100\n",
      "250/250 [==============================] - 0s 770us/step - loss: 0.3786 - accuracy: 0.8375\n",
      "Epoch 16/100\n",
      "250/250 [==============================] - 0s 802us/step - loss: 0.3750 - accuracy: 0.8394\n",
      "Epoch 17/100\n",
      "250/250 [==============================] - 0s 924us/step - loss: 0.3724 - accuracy: 0.8438\n",
      "Epoch 18/100\n",
      "250/250 [==============================] - 0s 858us/step - loss: 0.3701 - accuracy: 0.8415\n",
      "Epoch 19/100\n",
      "250/250 [==============================] - 0s 941us/step - loss: 0.3675 - accuracy: 0.8450\n",
      "Epoch 20/100\n",
      "250/250 [==============================] - 0s 930us/step - loss: 0.3666 - accuracy: 0.8446\n",
      "Epoch 21/100\n",
      "250/250 [==============================] - 0s 920us/step - loss: 0.3644 - accuracy: 0.8457\n",
      "Epoch 22/100\n",
      "250/250 [==============================] - 0s 898us/step - loss: 0.3620 - accuracy: 0.8472\n",
      "Epoch 23/100\n",
      "250/250 [==============================] - 0s 844us/step - loss: 0.3610 - accuracy: 0.8461\n",
      "Epoch 24/100\n",
      "250/250 [==============================] - 0s 826us/step - loss: 0.3595 - accuracy: 0.8485\n",
      "Epoch 25/100\n",
      "250/250 [==============================] - 0s 842us/step - loss: 0.3581 - accuracy: 0.8485\n",
      "Epoch 26/100\n",
      "250/250 [==============================] - 0s 850us/step - loss: 0.3568 - accuracy: 0.8490\n",
      "Epoch 27/100\n",
      "250/250 [==============================] - 0s 918us/step - loss: 0.3553 - accuracy: 0.8494\n",
      "Epoch 28/100\n",
      "250/250 [==============================] - 0s 837us/step - loss: 0.3544 - accuracy: 0.8522\n",
      "Epoch 29/100\n",
      "250/250 [==============================] - 0s 770us/step - loss: 0.3535 - accuracy: 0.8500\n",
      "Epoch 30/100\n",
      "250/250 [==============================] - 0s 812us/step - loss: 0.3525 - accuracy: 0.8509\n",
      "Epoch 31/100\n",
      "250/250 [==============================] - 0s 810us/step - loss: 0.3520 - accuracy: 0.8518\n",
      "Epoch 32/100\n",
      "250/250 [==============================] - 0s 766us/step - loss: 0.3510 - accuracy: 0.8535\n",
      "Epoch 33/100\n",
      "250/250 [==============================] - 0s 2ms/step - loss: 0.3504 - accuracy: 0.8525\n",
      "Epoch 34/100\n",
      "250/250 [==============================] - 0s 741us/step - loss: 0.3497 - accuracy: 0.8510\n",
      "Epoch 35/100\n",
      "250/250 [==============================] - 0s 734us/step - loss: 0.3495 - accuracy: 0.8554\n",
      "Epoch 36/100\n",
      "250/250 [==============================] - 0s 711us/step - loss: 0.3487 - accuracy: 0.8553\n",
      "Epoch 37/100\n",
      "250/250 [==============================] - 0s 742us/step - loss: 0.3482 - accuracy: 0.8549\n",
      "Epoch 38/100\n",
      "250/250 [==============================] - 0s 734us/step - loss: 0.3477 - accuracy: 0.8549\n",
      "Epoch 39/100\n",
      "250/250 [==============================] - 0s 726us/step - loss: 0.3477 - accuracy: 0.8559\n",
      "Epoch 40/100\n",
      "250/250 [==============================] - 0s 694us/step - loss: 0.3472 - accuracy: 0.8546\n",
      "Epoch 41/100\n",
      "250/250 [==============================] - 0s 746us/step - loss: 0.3470 - accuracy: 0.8565\n",
      "Epoch 42/100\n",
      "250/250 [==============================] - 0s 708us/step - loss: 0.3469 - accuracy: 0.8572\n",
      "Epoch 43/100\n",
      "250/250 [==============================] - 0s 746us/step - loss: 0.3462 - accuracy: 0.8561\n",
      "Epoch 44/100\n",
      "250/250 [==============================] - 0s 1ms/step - loss: 0.3455 - accuracy: 0.8556\n",
      "Epoch 45/100\n",
      "250/250 [==============================] - 0s 953us/step - loss: 0.3452 - accuracy: 0.8565\n",
      "Epoch 46/100\n",
      "250/250 [==============================] - 0s 968us/step - loss: 0.3450 - accuracy: 0.8569\n",
      "Epoch 47/100\n",
      "250/250 [==============================] - 0s 989us/step - loss: 0.3447 - accuracy: 0.8570\n",
      "Epoch 48/100\n",
      "250/250 [==============================] - 0s 694us/step - loss: 0.3448 - accuracy: 0.8576\n",
      "Epoch 49/100\n",
      "250/250 [==============================] - 0s 682us/step - loss: 0.3442 - accuracy: 0.8554\n",
      "Epoch 50/100\n",
      "250/250 [==============================] - 0s 706us/step - loss: 0.3441 - accuracy: 0.8565\n",
      "Epoch 51/100\n",
      "250/250 [==============================] - 0s 701us/step - loss: 0.3436 - accuracy: 0.8580\n",
      "Epoch 52/100\n",
      "250/250 [==============================] - 0s 690us/step - loss: 0.3434 - accuracy: 0.8571\n",
      "Epoch 53/100\n",
      "250/250 [==============================] - 0s 714us/step - loss: 0.3435 - accuracy: 0.8564\n",
      "Epoch 54/100\n",
      "250/250 [==============================] - 0s 698us/step - loss: 0.3434 - accuracy: 0.8583\n",
      "Epoch 55/100\n",
      "250/250 [==============================] - 0s 650us/step - loss: 0.3432 - accuracy: 0.8579\n",
      "Epoch 56/100\n",
      "250/250 [==============================] - 0s 782us/step - loss: 0.3424 - accuracy: 0.8586\n",
      "Epoch 57/100\n",
      "250/250 [==============================] - 0s 726us/step - loss: 0.3424 - accuracy: 0.8569\n",
      "Epoch 58/100\n",
      "250/250 [==============================] - 0s 742us/step - loss: 0.3424 - accuracy: 0.8581\n",
      "Epoch 59/100\n",
      "250/250 [==============================] - 0s 758us/step - loss: 0.3419 - accuracy: 0.8581\n",
      "Epoch 60/100\n",
      "250/250 [==============================] - 0s 796us/step - loss: 0.3421 - accuracy: 0.8581\n",
      "Epoch 61/100\n",
      "250/250 [==============================] - 0s 686us/step - loss: 0.3413 - accuracy: 0.8597\n",
      "Epoch 62/100\n",
      "250/250 [==============================] - 0s 666us/step - loss: 0.3411 - accuracy: 0.8586\n",
      "Epoch 63/100\n",
      "250/250 [==============================] - 0s 818us/step - loss: 0.3414 - accuracy: 0.8594\n",
      "Epoch 64/100\n",
      "250/250 [==============================] - 0s 722us/step - loss: 0.3410 - accuracy: 0.8595\n",
      "Epoch 65/100\n",
      "250/250 [==============================] - 0s 866us/step - loss: 0.3405 - accuracy: 0.8585\n",
      "Epoch 66/100\n",
      "250/250 [==============================] - 0s 938us/step - loss: 0.3401 - accuracy: 0.8599\n",
      "Epoch 67/100\n",
      "250/250 [==============================] - 0s 973us/step - loss: 0.3399 - accuracy: 0.8599\n",
      "Epoch 68/100\n",
      "250/250 [==============================] - 0s 937us/step - loss: 0.3400 - accuracy: 0.8604\n",
      "Epoch 69/100\n",
      "250/250 [==============================] - 0s 914us/step - loss: 0.3398 - accuracy: 0.8595\n",
      "Epoch 70/100\n",
      "250/250 [==============================] - 0s 810us/step - loss: 0.3393 - accuracy: 0.8608\n",
      "Epoch 71/100\n",
      "250/250 [==============================] - 0s 746us/step - loss: 0.3395 - accuracy: 0.8589\n",
      "Epoch 72/100\n",
      "250/250 [==============================] - 0s 701us/step - loss: 0.3390 - accuracy: 0.8597\n",
      "Epoch 73/100\n",
      "250/250 [==============================] - 0s 682us/step - loss: 0.3395 - accuracy: 0.8601\n",
      "Epoch 74/100\n",
      "250/250 [==============================] - 0s 693us/step - loss: 0.3389 - accuracy: 0.8609\n",
      "Epoch 75/100\n",
      "250/250 [==============================] - 0s 682us/step - loss: 0.3383 - accuracy: 0.8609\n",
      "Epoch 76/100\n",
      "250/250 [==============================] - 0s 710us/step - loss: 0.3385 - accuracy: 0.8618\n",
      "Epoch 77/100\n",
      "250/250 [==============================] - 0s 686us/step - loss: 0.3384 - accuracy: 0.8608\n",
      "Epoch 78/100\n",
      "250/250 [==============================] - 0s 674us/step - loss: 0.3386 - accuracy: 0.8605\n",
      "Epoch 79/100\n",
      "250/250 [==============================] - 0s 750us/step - loss: 0.3375 - accuracy: 0.8616\n",
      "Epoch 80/100\n",
      "250/250 [==============================] - 0s 883us/step - loss: 0.3377 - accuracy: 0.8585\n",
      "Epoch 81/100\n",
      "250/250 [==============================] - 0s 873us/step - loss: 0.3372 - accuracy: 0.8626\n",
      "Epoch 82/100\n",
      "250/250 [==============================] - 0s 865us/step - loss: 0.3381 - accuracy: 0.8601\n",
      "Epoch 83/100\n",
      "250/250 [==============================] - 0s 883us/step - loss: 0.3375 - accuracy: 0.8589\n",
      "Epoch 84/100\n",
      "250/250 [==============================] - 0s 870us/step - loss: 0.3368 - accuracy: 0.8605\n",
      "Epoch 85/100\n",
      "250/250 [==============================] - 0s 810us/step - loss: 0.3364 - accuracy: 0.8626\n",
      "Epoch 86/100\n",
      "250/250 [==============================] - 0s 818us/step - loss: 0.3364 - accuracy: 0.8594\n",
      "Epoch 87/100\n",
      "250/250 [==============================] - 0s 794us/step - loss: 0.3366 - accuracy: 0.8621\n",
      "Epoch 88/100\n",
      "250/250 [==============================] - 0s 794us/step - loss: 0.3366 - accuracy: 0.8611\n",
      "Epoch 89/100\n",
      "250/250 [==============================] - 0s 821us/step - loss: 0.3369 - accuracy: 0.8602\n",
      "Epoch 90/100\n",
      "250/250 [==============================] - 0s 812us/step - loss: 0.3362 - accuracy: 0.8602\n",
      "Epoch 91/100\n",
      "250/250 [==============================] - 0s 800us/step - loss: 0.3354 - accuracy: 0.8610\n",
      "Epoch 92/100\n",
      "250/250 [==============================] - 0s 822us/step - loss: 0.3357 - accuracy: 0.8602\n",
      "Epoch 93/100\n",
      "250/250 [==============================] - 0s 782us/step - loss: 0.3354 - accuracy: 0.8606\n",
      "Epoch 94/100\n",
      "250/250 [==============================] - 0s 806us/step - loss: 0.3360 - accuracy: 0.8596\n",
      "Epoch 95/100\n",
      "250/250 [==============================] - 0s 846us/step - loss: 0.3355 - accuracy: 0.8602\n",
      "Epoch 96/100\n",
      "250/250 [==============================] - 0s 817us/step - loss: 0.3354 - accuracy: 0.8611\n",
      "Epoch 97/100\n",
      "250/250 [==============================] - 0s 724us/step - loss: 0.3352 - accuracy: 0.8595\n",
      "Epoch 98/100\n",
      "250/250 [==============================] - 0s 702us/step - loss: 0.3359 - accuracy: 0.8611\n",
      "Epoch 99/100\n",
      "250/250 [==============================] - 0s 682us/step - loss: 0.3352 - accuracy: 0.8610\n",
      "Epoch 100/100\n",
      "250/250 [==============================] - 0s 666us/step - loss: 0.3353 - accuracy: 0.8610\n"
     ]
    },
    {
     "data": {
      "text/plain": [
       "<tensorflow.python.keras.callbacks.History at 0x17fb532a460>"
      ]
     },
     "execution_count": 40,
     "metadata": {},
     "output_type": "execute_result"
    }
   ],
   "source": [
    "#Training the ANN on Training set\n",
    "ann.fit(X_train,y_train, batch_size= 32, epochs = 100)"
   ]
  },
  {
   "cell_type": "markdown",
   "metadata": {},
   "source": [
    "#Making the predictions and evaluating the model\n",
    " Part 4 - Making the predictions and evaluating the model\n",
    "Predicting the result of a single observation\n",
    "Homework\n",
    "\n",
    "Use our ANN model to predict if the customer with the following informations will leave the bank:\n",
    "\n",
    "Geography: France\n",
    "\n",
    "Credit Score: 600\n",
    "\n",
    "Gender: Male\n",
    "\n",
    "Age: 40 years old\n",
    "\n",
    "Tenure: 3 years\n",
    "\n",
    "Balance: $ 60000\n",
    "\n",
    "Number of Products: 2\n",
    "\n",
    "Does this customer have a credit card? Yes\n",
    "\n",
    "Is this customer an Active Member: Yes\n",
    "\n",
    "Estimated Salary: $ 50000\n",
    "\n",
    "So, should we say goodbye to that customer?\n",
    "\n",
    "Solution"
   ]
  },
  {
   "cell_type": "code",
   "execution_count": 42,
   "metadata": {},
   "outputs": [
    {
     "name": "stdout",
     "output_type": "stream",
     "text": [
      "[[False]]\n"
     ]
    }
   ],
   "source": [
    "print(ann.predict(sc.transform([[1, 0, 0, 600, 1, 40, 3, 60000, 2, 1, 1, 50000]])) > 0.5)\n",
    "#without > 0.5 we get the probability"
   ]
  },
  {
   "cell_type": "code",
   "execution_count": 43,
   "metadata": {},
   "outputs": [
    {
     "name": "stdout",
     "output_type": "stream",
     "text": [
      "[[0 0]\n",
      " [0 1]\n",
      " [0 0]\n",
      " ...\n",
      " [0 0]\n",
      " [0 0]\n",
      " [0 0]]\n"
     ]
    }
   ],
   "source": [
    "#predicting test results\n",
    "y_pred = ann.predict(X_test)\n",
    "y_pred = (y_pred > 0.5)\n",
    "print(np.concatenate((y_pred.reshape(len(y_pred),1), y_test.reshape(len(y_test),1)),1))"
   ]
  },
  {
   "cell_type": "code",
   "execution_count": 44,
   "metadata": {},
   "outputs": [
    {
     "name": "stdout",
     "output_type": "stream",
     "text": [
      "[[1508   87]\n",
      " [ 201  204]]\n"
     ]
    },
    {
     "data": {
      "text/plain": [
       "0.856"
      ]
     },
     "execution_count": 44,
     "metadata": {},
     "output_type": "execute_result"
    }
   ],
   "source": [
    "from sklearn.metrics import confusion_matrix, accuracy_score\n",
    "cm = confusion_matrix(y_test, y_pred)\n",
    "print(cm)\n",
    "accuracy_score(y_test, y_pred)"
   ]
  },
  {
   "cell_type": "code",
   "execution_count": null,
   "metadata": {},
   "outputs": [],
   "source": []
  }
 ],
 "metadata": {
  "kernelspec": {
   "display_name": "Python 3",
   "language": "python",
   "name": "python3"
  },
  "language_info": {
   "codemirror_mode": {
    "name": "ipython",
    "version": 3
   },
   "file_extension": ".py",
   "mimetype": "text/x-python",
   "name": "python",
   "nbconvert_exporter": "python",
   "pygments_lexer": "ipython3",
   "version": "3.8.5"
  }
 },
 "nbformat": 4,
 "nbformat_minor": 4
}
